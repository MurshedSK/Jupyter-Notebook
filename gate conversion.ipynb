{
 "cells": [
  {
   "cell_type": "code",
   "execution_count": 1,
   "id": "fd41c188",
   "metadata": {},
   "outputs": [],
   "source": [
    "from qiskit import QuantumRegister,ClassicalRegister,QuantumCircuit"
   ]
  },
  {
   "cell_type": "code",
   "execution_count": 2,
   "id": "5ade4079",
   "metadata": {},
   "outputs": [],
   "source": [
    "from qiskit.visualization import array_to_latex"
   ]
  },
  {
   "cell_type": "code",
   "execution_count": 3,
   "id": "1be3d5f7",
   "metadata": {},
   "outputs": [],
   "source": [
    "import qiskit.quantum_info as qi"
   ]
  },
  {
   "cell_type": "code",
   "execution_count": 4,
   "id": "8bc313c0",
   "metadata": {},
   "outputs": [],
   "source": [
    "q0 = ClassicalRegister(1)"
   ]
  },
  {
   "cell_type": "code",
   "execution_count": 5,
   "id": "5a6ed7c4",
   "metadata": {},
   "outputs": [],
   "source": [
    "c0 = QuantumRegister(1)"
   ]
  },
  {
   "cell_type": "code",
   "execution_count": 6,
   "id": "43cd990d",
   "metadata": {},
   "outputs": [],
   "source": [
    "qc = QuantumCircuit(q0,c0)"
   ]
  },
  {
   "cell_type": "code",
   "execution_count": 7,
   "id": "892b8e1b",
   "metadata": {},
   "outputs": [],
   "source": [
    "dm = qi.DensityMatrix(qc)"
   ]
  },
  {
   "cell_type": "code",
   "execution_count": 8,
   "id": "099e8a86",
   "metadata": {
    "scrolled": true
   },
   "outputs": [
    {
     "data": {
      "image/png": "[encoded data removed]",
      "text/plain": [
       "<Figure size 116.407x144.48 with 1 Axes>"
      ]
     },
     "execution_count": 8,
     "metadata": {},
     "output_type": "execute_result"
    }
   ],
   "source": [
    "qc.draw('mpl')"
   ]
  },
  {
   "cell_type": "code",
   "execution_count": 9,
   "id": "3e162f53",
   "metadata": {
    "scrolled": true
   },
   "outputs": [
    {
     "data": {
      "text/latex": [
       "$$\n",
       "\n",
       "\\begin{bmatrix}\n",
       "1 & 0  \\\\\n",
       " 0 & 0  \\\\\n",
       " \\end{bmatrix}\n",
       "$$"
      ],
      "text/plain": [
       "<IPython.core.display.Latex object>"
      ]
     },
     "metadata": {},
     "output_type": "display_data"
    }
   ],
   "source": [
    "display(dm.draw('latex'))"
   ]
  },
  {
   "cell_type": "code",
   "execution_count": 10,
   "id": "2baeea78",
   "metadata": {
    "scrolled": false
   },
   "outputs": [
    {
     "data": {
      "image/png": "[encoded data removed]",
      "text/plain": [
       "<Figure size 146.507x144.48 with 1 Axes>"
      ]
     },
     "metadata": {},
     "output_type": "display_data"
    },
    {
     "data": {
      "text/latex": [
       "$$\n",
       "\n",
       "\\begin{bmatrix}\n",
       "0 & 0  \\\\\n",
       " 0 & 1  \\\\\n",
       " \\end{bmatrix}\n",
       "$$"
      ],
      "text/plain": [
       "<IPython.core.display.Latex object>"
      ]
     },
     "metadata": {},
     "output_type": "display_data"
    }
   ],
   "source": [
    "qc.x(0)\n",
    "display(qc.draw('mpl'))\n",
    "dm = qi.DensityMatrix(qc)\n",
    "display(dm.draw('latex'))"
   ]
  },
  {
   "cell_type": "code",
   "execution_count": 11,
   "id": "5b80b838",
   "metadata": {
    "scrolled": true
   },
   "outputs": [
    {
     "data": {
      "image/png": "[encoded data removed]",
      "text/plain": [
       "<Figure size 206.707x144.48 with 1 Axes>"
      ]
     },
     "metadata": {},
     "output_type": "display_data"
    },
    {
     "data": {
      "text/latex": [
       "$$\n",
       "\n",
       "\\begin{bmatrix}\n",
       "\\tfrac{1}{2} & -\\tfrac{1}{2}  \\\\\n",
       " -\\tfrac{1}{2} & \\tfrac{1}{2}  \\\\\n",
       " \\end{bmatrix}\n",
       "$$"
      ],
      "text/plain": [
       "<IPython.core.display.Latex object>"
      ]
     },
     "metadata": {},
     "output_type": "display_data"
    }
   ],
   "source": [
    "qc.h(0)\n",
    "display(qc.draw('mpl'))\n",
    "dm = qi.DensityMatrix(qc)\n",
    "display(dm.draw('latex'))"
   ]
  },
  {
   "cell_type": "code",
   "execution_count": 12,
   "id": "828bb3f8",
   "metadata": {
    "scrolled": true
   },
   "outputs": [
    {
     "data": {
      "image/png": "[encoded data removed]",
      "text/plain": [
       "<Figure size 266.907x144.48 with 1 Axes>"
      ]
     },
     "metadata": {},
     "output_type": "display_data"
    },
    {
     "data": {
      "text/latex": [
       "$$\n",
       "\n",
       "\\begin{bmatrix}\n",
       "\\tfrac{1}{2} & -\\tfrac{1}{2}  \\\\\n",
       " -\\tfrac{1}{2} & \\tfrac{1}{2}  \\\\\n",
       " \\end{bmatrix}\n",
       "$$"
      ],
      "text/plain": [
       "<IPython.core.display.Latex object>"
      ]
     },
     "metadata": {},
     "output_type": "display_data"
    }
   ],
   "source": [
    "qc.x(0)\n",
    "display(qc.draw('mpl'))\n",
    "dm = qi.DensityMatrix(qc)\n",
    "display(dm.draw('latex'))"
   ]
  },
  {
   "cell_type": "code",
   "execution_count": 13,
   "id": "071e89f8",
   "metadata": {},
   "outputs": [
    {
     "data": {
      "image/png": "[encoded data removed]",
      "text/plain": [
       "<Figure size 327.107x144.48 with 1 Axes>"
      ]
     },
     "metadata": {},
     "output_type": "display_data"
    },
    {
     "data": {
      "text/latex": [
       "$$\n",
       "\n",
       "\\begin{bmatrix}\n",
       "0 & 0  \\\\\n",
       " 0 & 1  \\\\\n",
       " \\end{bmatrix}\n",
       "$$"
      ],
      "text/plain": [
       "<IPython.core.display.Latex object>"
      ]
     },
     "metadata": {},
     "output_type": "display_data"
    }
   ],
   "source": [
    "qc.h(0)\n",
    "display(qc.draw('mpl'))\n",
    "dm = qi.DensityMatrix(qc)\n",
    "display(dm.draw('latex'))"
   ]
  },
  {
   "cell_type": "code",
   "execution_count": 14,
   "id": "82f84ea9",
   "metadata": {},
   "outputs": [
    {
     "data": {
      "image/png": "[encoded data removed]",
      "text/plain": [
       "<Figure size 116.552x144.48 with 1 Axes>"
      ]
     },
     "metadata": {},
     "output_type": "display_data"
    },
    {
     "data": {
      "text/latex": [
       "$$\n",
       "\n",
       "\\begin{bmatrix}\n",
       "1 & 0  \\\\\n",
       " 0 & 0  \\\\\n",
       " \\end{bmatrix}\n",
       "$$"
      ],
      "text/plain": [
       "<IPython.core.display.Latex object>"
      ]
     },
     "metadata": {},
     "output_type": "display_data"
    }
   ],
   "source": [
    "from qiskit import QuantumRegister,ClassicalRegister,QuantumCircuit\n",
    "from qiskit.visualization import array_to_latex\n",
    "import qiskit.quantum_info as qi\n",
    "q1 = ClassicalRegister(1)\n",
    "c1 = QuantumRegister(1)\n",
    "qc1 = QuantumCircuit(q1,c1)\n",
    "dm1 = qi.DensityMatrix(qc1)\n",
    "display(qc1.draw('mpl'))\n",
    "display(dm1.draw('latex'))"
   ]
  },
  {
   "cell_type": "code",
   "execution_count": 15,
   "id": "e10f5874",
   "metadata": {
    "scrolled": true
   },
   "outputs": [
    {
     "data": {
      "image/png": "[encoded data removed]",
      "text/plain": [
       "<Figure size 146.652x144.48 with 1 Axes>"
      ]
     },
     "metadata": {},
     "output_type": "display_data"
    },
    {
     "data": {
      "text/latex": [
       "$$\n",
       "\n",
       "\\begin{bmatrix}\n",
       "0 & 0  \\\\\n",
       " 0 & 1  \\\\\n",
       " \\end{bmatrix}\n",
       "$$"
      ],
      "text/plain": [
       "<IPython.core.display.Latex object>"
      ]
     },
     "metadata": {},
     "output_type": "display_data"
    }
   ],
   "source": [
    "qc1.x(0)\n",
    "display(qc1.draw('mpl'))\n",
    "dm1 = qi.DensityMatrix(qc1)\n",
    "display(dm1.draw('latex'))"
   ]
  },
  {
   "cell_type": "code",
   "execution_count": 16,
   "id": "ff961da2",
   "metadata": {
    "scrolled": true
   },
   "outputs": [
    {
     "data": {
      "image/png": "[encoded data removed]",
      "text/plain": [
       "<Figure size 206.852x144.48 with 1 Axes>"
      ]
     },
     "metadata": {},
     "output_type": "display_data"
    },
    {
     "data": {
      "text/latex": [
       "$$\n",
       "\n",
       "\\begin{bmatrix}\n",
       "0 & 0  \\\\\n",
       " 0 & 1  \\\\\n",
       " \\end{bmatrix}\n",
       "$$"
      ],
      "text/plain": [
       "<IPython.core.display.Latex object>"
      ]
     },
     "metadata": {},
     "output_type": "display_data"
    }
   ],
   "source": [
    "qc1.z(0)\n",
    "display(qc1.draw('mpl'))\n",
    "dm1 = qi.DensityMatrix(qc1)\n",
    "display(dm1.draw('latex'))"
   ]
  },
  {
   "cell_type": "code",
   "execution_count": 17,
   "id": "492e9d03",
   "metadata": {
    "scrolled": true
   },
   "outputs": [
    {
     "data": {
      "image/png": "[encoded data removed]",
      "text/plain": [
       "<Figure size 267.052x144.48 with 1 Axes>"
      ]
     },
     "metadata": {},
     "output_type": "display_data"
    },
    {
     "data": {
      "text/latex": [
       "$$\n",
       "\n",
       "\\begin{bmatrix}\n",
       "0 & 0  \\\\\n",
       " 0 & 1  \\\\\n",
       " \\end{bmatrix}\n",
       "$$"
      ],
      "text/plain": [
       "<IPython.core.display.Latex object>"
      ]
     },
     "metadata": {},
     "output_type": "display_data"
    }
   ],
   "source": [
    "qc1.measure(0,0)\n",
    "display(qc1.draw('mpl'))\n",
    "display(dm1.draw('latex'))"
   ]
  },
  {
   "cell_type": "code",
   "execution_count": 18,
   "id": "084febc8",
   "metadata": {},
   "outputs": [
    {
     "data": {
      "image/png": "[encoded data removed]",
      "text/plain": [
       "<Figure size 1080x360 with 2 Axes>"
      ]
     },
     "execution_count": 18,
     "metadata": {},
     "output_type": "execute_result"
    }
   ],
   "source": [
    "dm1.draw('city')"
   ]
  }
 ],
 "metadata": {
  "kernelspec": {
   "display_name": "Python 3 (ipykernel)",
   "language": "python",
   "name": "python3"
  },
  "language_info": {
   "codemirror_mode": {
    "name": "ipython",
    "version": 3
   },
   "file_extension": ".py",
   "mimetype": "text/x-python",
   "name": "python",
   "nbconvert_exporter": "python",
   "pygments_lexer": "ipython3",
   "version": "3.9.12"
  }
 },
 "nbformat": 4,
 "nbformat_minor": 5
}
