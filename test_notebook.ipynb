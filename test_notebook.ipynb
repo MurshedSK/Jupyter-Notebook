{
 "cells": [
  {
   "cell_type": "code",
   "execution_count": 24,
   "id": "3b43553b",
   "metadata": {
    "scrolled": true
   },
   "outputs": [
    {
     "name": "stdout",
     "output_type": "stream",
     "text": [
      "{'00000': 1024}\n",
      "\\documentclass[border=2px]{standalone}\n",
      "\n",
      "\\usepackage[braket, qm]{qcircuit}\n",
      "\\usepackage{graphicx}\n",
      "\n",
      "\\begin{document}\n",
      "\\scalebox{1.0}{\n",
      "\\Qcircuit @C=1.0em @R=0.8em @!R { \\\\\n",
      "\t \t\\nghost{{q33}_{0} :  } & \\lstick{{q33}_{0} :  } & \\ctrl{3} & \\meter & \\qw & \\qw\\\\\n",
      "\t \t\\nghost{{q33}_{1} :  } & \\lstick{{q33}_{1} :  } & \\qw & \\qw & \\qw & \\qw\\\\\n",
      "\t \t\\nghost{{q33}_{2} :  } & \\lstick{{q33}_{2} :  } & \\qw & \\qw & \\qw & \\qw\\\\\n",
      "\t \t\\nghost{{q33}_{3} :  } & \\lstick{{q33}_{3} :  } & \\targ & \\qw & \\qw & \\qw\\\\\n",
      "\t \t\\nghost{{q33}_{4} :  } & \\lstick{{q33}_{4} :  } & \\qw & \\qw & \\qw & \\qw\\\\\n",
      "\t \t\\nghost{\\mathrm{{c22} :  }} & \\lstick{\\mathrm{{c22} :  }} & \\lstick{/_{_{5}}} \\cw & \\dstick{_{_{\\hspace{0.0em}4}}} \\cw \\ar @{<=} [-5,0] & \\cw & \\cw\\\\\n",
      "\\\\ }}\n",
      "\\end{document}\n"
     ]
    },
    {
     "data": {
      "image/png": "[encoded data removed]",
      "text/plain": [
       "<Figure size 233.54x385.28 with 1 Axes>"
      ]
     },
     "execution_count": 24,
     "metadata": {},
     "output_type": "execute_result"
    }
   ],
   "source": [
    "from qiskit import *\n",
    "q =  QuantumRegister(5) \n",
    "c = ClassicalRegister(5) \n",
    "qc = QuantumCircuit(q,c)\n",
    "qc.cx(q[0],q[3])\n",
    "qc.measure(q[0],c[4])\n",
    "#from qiskit import execute, Aer\n",
    "\n",
    "job = execute(qc,Aer.get_backend('qasm_simulator'),shots=1024)\n",
    "counts = job.result().get_counts(qc)\n",
    "print(counts)   \n",
    "print(qc.draw('latex_source'))\n",
    "qc.draw('mpl')\n"
   ]
  }
 ],
 "metadata": {
  "kernelspec": {
   "display_name": "Python 3 (ipykernel)",
   "language": "python",
   "name": "python3"
  },
  "language_info": {
   "codemirror_mode": {
    "name": "ipython",
    "version": 3
   },
   "file_extension": ".py",
   "mimetype": "text/x-python",
   "name": "python",
   "nbconvert_exporter": "python",
   "pygments_lexer": "ipython3",
   "version": "3.9.12"
  }
 },
 "nbformat": 4,
 "nbformat_minor": 5
}
